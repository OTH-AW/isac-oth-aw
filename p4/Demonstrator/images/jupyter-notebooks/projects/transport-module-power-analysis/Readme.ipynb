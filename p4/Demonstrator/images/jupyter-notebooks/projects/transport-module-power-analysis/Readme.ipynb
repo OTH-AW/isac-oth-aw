{
 "cells": [
  {
   "cell_type": "markdown",
   "metadata": {},
   "source": [
    "# Konzept\n",
    "\n",
    "Ziel ist es, aus den Förderbanddatensätze des Teilprojekts 2. eine Datenanalyse  durchzuführen. Dabei stand ein Analyse der Werkstückträger und des Stromverbrauchs aus den Sensordatensätzen im Vordergrund. Grundsätzlich wurden dabei nach Optimierungsmöglichkeiten gesucht.\n",
    "\n",
    "# Aufbau\n",
    "\n",
    "#### /notebooks\n",
    "\n",
    "In diesem Ordner befinden sich die zur Analyse benötigten Jupyter-Notebooks. Das Setup.ipynb im Ordner /notebooks ist für die Initialisierung der Notebooks wichtig. Alle anderen Notebooks binden dieses ein.\n",
    "\n",
    "Die Notebooks, die sich auf die Analyse der Daten spezialisieren, befinden sich im Verzeichnis\n",
    "\n",
    "* /notebooks/data_compare\n",
    "\n",
    "**Analyze_Unnecessary_Worktime.ipynb**\n",
    "\n",
    "Analysiert die Aktivität der Sensoren und dessen Auswirkung auf die Performance und den Stromverbrauch des Förderbands. Bei der Nachforschung konnten fehlerhafte Sensordaten erkannt werden, die anschließend korrigiert wurden. Dadurch konnten mögliche Einsparungen visualisiert und ermittelt werden.\n",
    "\n",
    "**Sensor_Data_Provider.ipynb**\n",
    "\n",
    "Stellt eine Schnittstelle zur Rückgabe von Datensätzen eines Sensors zur Verfügung. Diese wurde innerhalb eines Jupyter Notebooks umgesetzt. Beim Start eines Jupyter-Servers im Modus \"kernelgateway\" ist diese Schnittstelle ähnlich einer REST-API verfügbar.\n",
    "\n",
    "* /notebooks/sensor_analysis\n",
    "\n",
    "**wst_jam_analysis.ipynb**\n",
    "\n",
    "Aufbauend auf der Analyse zum Stromverbrauch eines Förderbandes bzw. dem Leistungsverbrauches des gesamten Systems konnten wir feststellen, dass es in unregelmäßigen Abständen zu Staus von Werkstückträgern an unterschiedlichen Sensoren kommt. Um sicherzustellen, dass es nicht an einzelnen Sensoren oder einem bestimmten Werkstückträger liegt, haben wir analysiert, wie sich bestimmte Werkstückträger in Kombination mit den Sensoren verhalten.\n",
    "\n",
    "* /notebooks/database\n",
    "\n",
    "**import_data_to_database.ipynb**\n",
    "\n",
    "Importiert Datensätze, die im Ordner /data/db_data_export/ abgelegt worden sind, in die Datenbank. Dabei werden bei jedem Datensatz die Umgebungsvariablen abhängig von den Datensätzen, die aktuell importiert werden, gesetzt.\n",
    "\n",
    "Dabei müssen die Datensätze des Sensors im Ordner /data/db_data_export/ wie folgt abgelegt werden:\n",
    "\n",
    "/data/db_data_export/YYYY_MM_DD/NameDesSensors.csv\n",
    "\n",
    "Beispiel: data/db_data_export/2018_12_18/ET200S_ZS_K11_Meldungen.csv\n",
    "\n",
    "Dadurch entfällt die manuelle Ausführung des Imports für jedes einzelnen Sensor.\n",
    "\n",
    "#### /src\n",
    "\n",
    "Hier befinden sich einige für die Umsetzung notwendigen Bibliotheken und entwickelten Hilfsfunktionen. \n",
    "\n",
    "- Notebookloader: Um in den einzelnen Notebooks Zugriff auf andere Notebooks zu erhalten, wurde die Möglichkeit implementiert, andere Notebooks zu importieren. Damit erhält man die Möglichkeit, eine OOP-Artige Struktur aufbauen zu können. Damit die einzelnen Notebooks auf diese Funktionalität zugreifen können, muss die Setup.py im Root-Verzeichnis aufgerufen werden. (Siehe: https://jupyter-notebook.readthedocs.io/en/4.x/examples/Notebook/rstversions/Importing%20Notebooks.html)\n",
    "\n",
    "- Zugriff auf Datenbank: Um einen einheitlichen Zugriff auf die Datenbank gewährleisten zu können, wurde diese Funktionalität gesammelt unter src/isac/database implementiert. Notebooks können auf diese Funktionen zugreifen, um eine Datenbank bzw. Collection ansprechen zu können.\n",
    "\n",
    "- Projektkonfiguration: In src/isac/configuration befindet sich die Konfiguration, an der man das aktuell ausgewählte Projekt auswählen. Ändert man das gesetzte Projekt, hat das Auswirkungen auf Projektefunktionen, die in den verschiedenen Notebooks implementiert wurden. Möchte man mehrere Projekt auslesen, muss dazwischene diese Variable auf das jeweils gewünschte Projekt geändert werden. Diese Eigenschaft wird zum Beispiel beim Importieren aller Rohdaten verwendet (Ändere Projektname, Importiere Projekt, Ändere erneut Projektname, ...) "
   ]
  },
  {
   "attachments": {
    "image.png": {
     "image/png": "[encoded data removed]"
    }
   },
   "cell_type": "markdown",
   "metadata": {},
   "source": [
    "#### /data\n",
    "\n",
    "Hier befinden sich die für das Projekt relevanten Daten Projektdaten.\n",
    "\n",
    "Unter /data/db_data_export/YYYY_MM_DD/NameDesSensors.csv kann ein Datensatz eines Sensors abgelegt werden. Dieser .csv-Datensatzt besteht hierbei aus zwei Spalten. Die erste Spalte entspricht dem Zeitstempel. Die zweite Spalte ist der eigentliche Datensatz an diesem Zeitpunkt. Beispiel Bandbero_2_B02_Meldungen.csv:\n",
    "\n",
    "- 45736890,False\n",
    "- 46156580,True\n",
    "- 46159737,False\n",
    "\n",
    "\n",
    "Wenn man diesen Datensatz in die MongoDB importiert (manuell oder mit Hilfe des Notebooks /notebooks/database/import_data_to_database.ipynb), dann wird eine Collection mit dem Namen Bandbero_2_B02_Meldungen erzeugt. Diese Collection beinhaltet anschließend für jeden Zeitpunkt ein eigenes Dokument mit dem zugehörigen Wert.\n",
    "\n",
    "Beispiel:\n",
    "\n",
    "![image.png](attachment:image.png)\n",
    "\n",
    "Dieser Datensatz des Sensors kann dann für weitere Analysen in den Notebooks verwendet werden."
   ]
  },
  {
   "cell_type": "markdown",
   "metadata": {},
   "source": [
    "# Automatische Befüllung der Datenbank\n",
    "\n",
    "Wenn dieses Image in Kombination mit dem Image \"Mongo-Seeder\" gestartet wird, werden bereits importierte, im Image \"Mongo-Seeder\" vorhandene Datenkbanken importiert. Dadurch ist es nicht mehr notwendig, die Daten in diesem Image zu importieren. Damit man den Aufbau eines neuen Imports nachvollziehen kann, wurde beispielhaft im Ordner /data/db_data_export/ ein Projekt hinterlegt. Sollten weitere Imports benötigt werden, kann man sich an diesem Aufbau orientieren."
   ]
  }
 ],
 "metadata": {
  "kernelspec": {
   "display_name": "Python 3",
   "language": "python",
   "name": "python3"
  },
  "language_info": {
   "codemirror_mode": {
    "name": "ipython",
    "version": 3
   },
   "file_extension": ".py",
   "mimetype": "text/x-python",
   "name": "python",
   "nbconvert_exporter": "python",
   "pygments_lexer": "ipython3",
   "version": "3.7.3"
  }
 },
 "nbformat": 4,
 "nbformat_minor": 2
}
