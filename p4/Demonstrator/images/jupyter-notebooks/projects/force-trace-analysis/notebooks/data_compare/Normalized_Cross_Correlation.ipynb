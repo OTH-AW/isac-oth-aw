{
 "cells": [
  {
   "cell_type": "markdown",
   "metadata": {},
   "source": [
    "#### Beschreibung:\n",
    "Implementierte die Normalisierte Kreuzkorrelation, die für den Translationsvergleich zwischen Signalen verwendet wird. Damit kann der Unterschied auf der X-Achse(Zeit) berechnet werden."
   ]
  },
  {
   "cell_type": "code",
   "execution_count": 1,
   "metadata": {},
   "outputs": [],
   "source": [
    "%run ../Setup.ipynb\n",
    "%matplotlib inline\n",
    "\n",
    "import numpy as np\n",
    "import pandas as pd\n",
    "import matplotlib.pyplot as plt"
   ]
  },
  {
   "cell_type": "code",
   "execution_count": 2,
   "metadata": {},
   "outputs": [],
   "source": [
    "class NormalizedCrossCorrelationComparer:\n",
    "    dataframe_1 = None\n",
    "    dataframe_2 = None\n",
    "    debug = False\n",
    "    mode = 'full'\n",
    "    ncorr = None\n",
    "    argmax = None\n",
    "\n",
    "    def __init__(self):\n",
    "        pass\n",
    "    \n",
    "    def calculate(self, a, b):\n",
    "        a = (a - np.mean(a)) / (np.std(a) * len(a))\n",
    "        b = (b - np.mean(b)) / (np.std(b))\n",
    "        c = np.correlate(a, b, self.mode)\n",
    "\n",
    "        return c\n",
    "    \n",
    "    def getBestTranslation(self, df1, df2):\n",
    "        self.dataframe_1 = df1.copy()\n",
    "        self.dataframe_2 = df2.copy()\n",
    "        \n",
    "        self.ncorr = self.calculate(self.dataframe_1, self.dataframe_2)\n",
    "        self.argmax = self.ncorr.argmax()\n",
    "        \n",
    "        if self.debug:\n",
    "            print(\"ncorr: \" + str(self.ncorr))\n",
    "            print(\"argmax: \" + str(self.argmax))\n",
    "            plt.plot(self.ncorr)\n",
    "        \n",
    "        return self.argmax "
   ]
  },
  {
   "cell_type": "code",
   "execution_count": 3,
   "metadata": {},
   "outputs": [
    {
     "name": "stdout",
     "output_type": "stream",
     "text": [
      "ncorr: [-0.22058824  0.44117647 -0.72058824  1.         -0.72058824  0.44117647\n",
      " -0.22058824]\n",
      "argmax: 3\n",
      "3\n"
     ]
    },
    {
     "data": {
      "image/png": "[encoded data removed]",
      "text/plain": [
       "<Figure size 432x288 with 1 Axes>"
      ]
     },
     "metadata": {
      "needs_background": "light"
     },
     "output_type": "display_data"
    }
   ],
   "source": [
    "if __name__ == \"__main__\":\n",
    "    comparer = NormalizedCrossCorrelationComparer()\n",
    "    comparer.debug = True\n",
    "\n",
    "    # datax = np.array([10, 20, 10, 30, 20, 10, 28, 22, 10])\n",
    "    a = np.array([30, 20, 28, 22])\n",
    "    b = np.array([30, 20, 28, 22])\n",
    "    \n",
    "    # a = np.array([1,2,-2,4,2,3,1,0])\n",
    "    # b = np.array([2,3,-2,3,2,4,1,-1])\n",
    "    # c = np.array([-2,0,4,0,1,1,0,-2])\n",
    "\n",
    "    # comparer.getBestTranslation(datax, datay)\n",
    "    ncorr = comparer.getBestTranslation(a, b)\n",
    "    print(ncorr)\n"
   ]
  }
 ],
 "metadata": {
  "kernelspec": {
   "display_name": "Python 3",
   "language": "python",
   "name": "python3"
  },
  "language_info": {
   "codemirror_mode": {
    "name": "ipython",
    "version": 3
   },
   "file_extension": ".py",
   "mimetype": "text/x-python",
   "name": "python",
   "nbconvert_exporter": "python",
   "pygments_lexer": "ipython3",
   "version": "3.7.3"
  }
 },
 "nbformat": 4,
 "nbformat_minor": 2
}
