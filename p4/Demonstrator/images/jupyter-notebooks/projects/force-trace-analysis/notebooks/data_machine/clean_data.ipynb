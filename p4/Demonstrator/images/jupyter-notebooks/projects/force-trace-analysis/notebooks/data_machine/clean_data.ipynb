{
 "cells": [
  {
   "cell_type": "markdown",
   "metadata": {},
   "source": [
    "#### Beschreibung:\n",
    "Aufbereitung der Daten.\n",
    "\n",
    "#### Workflow:\n",
    "Echtdaten des Projektes, das zurzeit in der Konfiguration gesetzt ist, werden aus der MongoDB (Datenbank) ausgelesen. Anschließend werden sie in diesem Notebook für die weitere Verwendung aufbereitet."
   ]
  },
  {
   "cell_type": "markdown",
   "metadata": {},
   "source": [
    "# Daten bereinigen"
   ]
  },
  {
   "cell_type": "code",
   "execution_count": 1,
   "metadata": {
    "scrolled": true
   },
   "outputs": [],
   "source": [
    "%run ../Setup.ipynb\n",
    "\n",
    "import pandas as pd\n",
    "from isac.database.connection import database_connector as connector\n",
    "from isac.database.structure import column_meta_helper as structureMeta\n",
    "from isac import configuration"
   ]
  },
  {
   "cell_type": "markdown",
   "metadata": {},
   "source": [
    "### Extraktion"
   ]
  },
  {
   "cell_type": "markdown",
   "metadata": {},
   "source": [
    "#### Dokumente einlesen"
   ]
  },
  {
   "cell_type": "code",
   "execution_count": 2,
   "metadata": {
    "scrolled": true
   },
   "outputs": [],
   "source": [
    "connection = connector.DatabaseConnector(name = configuration.project_database).connect()\n",
    "collection = connection.getCollection(configuration.collections.cleaned)"
   ]
  },
  {
   "cell_type": "markdown",
   "metadata": {},
   "source": [
    "#### Get Brief Overview"
   ]
  },
  {
   "cell_type": "code",
   "execution_count": 3,
   "metadata": {},
   "outputs": [],
   "source": [
    "df = pd.DataFrame(list(collection.find()))\n",
    "\n",
    "df.sort_values(by=['time'])\n",
    "df = df.reset_index(drop=True)\n",
    "\n",
    "# order = list(namedColumns.values())\n",
    "order = configuration.order\n",
    "\n",
    "df[order].describe()\n",
    "\n",
    "radius = 0.005 # radius in m, for 5 mm\n",
    "\n",
    "virtual_force = df[order]['torque_set_f11'] / radius\n",
    "# print(virtual_force)\n",
    "df['Virtuelle Kraft'] = virtual_force"
   ]
  },
  {
   "cell_type": "markdown",
   "metadata": {},
   "source": [
    "### Cleaning"
   ]
  },
  {
   "cell_type": "markdown",
   "metadata": {},
   "source": [
    "#### Basic Math For Calculation\n",
    "\n",
    "__P = ω * M__\n",
    "\n",
    "P = Leistung  \n",
    "ω = Omega, Kreifrequenz (Rad/Sec.)  \n",
    "M = Drehmoment = r * F // Kann zur Berechnung herangezogen werden\n",
    "r = Radius des Fräskopfes = 5 mm = 0,005 m  \n",
    "F = Kraft, die gesuchte Größe\n",
    "\n",
    "__⇒ F = M / r__  "
   ]
  },
  {
   "cell_type": "code",
   "execution_count": 4,
   "metadata": {
    "scrolled": true
   },
   "outputs": [
    {
     "data": {
      "text/html": [
       "<div>\n",
       "<style scoped>\n",
       "    .dataframe tbody tr th:only-of-type {\n",
       "        vertical-align: middle;\n",
       "    }\n",
       "\n",
       "    .dataframe tbody tr th {\n",
       "        vertical-align: top;\n",
       "    }\n",
       "\n",
       "    .dataframe thead th {\n",
       "        text-align: right;\n",
       "    }\n",
       "</style>\n",
       "<table border=\"1\" class=\"dataframe\">\n",
       "  <thead>\n",
       "    <tr style=\"text-align: right;\">\n",
       "      <th></th>\n",
       "      <th>time</th>\n",
       "      <th>Virtuelle Kraft</th>\n",
       "      <th>spindle_speed_actual_f3</th>\n",
       "      <th>torque_set_f11</th>\n",
       "      <th>spindle_power_f9</th>\n",
       "    </tr>\n",
       "  </thead>\n",
       "  <tbody>\n",
       "    <tr>\n",
       "      <th>3747</th>\n",
       "      <td>14.988</td>\n",
       "      <td>-58.6</td>\n",
       "      <td>4456.844330</td>\n",
       "      <td>-0.293</td>\n",
       "      <td>-115.048558</td>\n",
       "    </tr>\n",
       "    <tr>\n",
       "      <th>3748</th>\n",
       "      <td>14.992</td>\n",
       "      <td>81.4</td>\n",
       "      <td>4455.986023</td>\n",
       "      <td>0.407</td>\n",
       "      <td>129.429627</td>\n",
       "    </tr>\n",
       "    <tr>\n",
       "      <th>3749</th>\n",
       "      <td>14.996</td>\n",
       "      <td>258.0</td>\n",
       "      <td>4455.356598</td>\n",
       "      <td>1.290</td>\n",
       "      <td>632.767066</td>\n",
       "    </tr>\n",
       "    <tr>\n",
       "      <th>3750</th>\n",
       "      <td>15.000</td>\n",
       "      <td>-13.0</td>\n",
       "      <td>4457.187653</td>\n",
       "      <td>-0.065</td>\n",
       "      <td>28.762139</td>\n",
       "    </tr>\n",
       "    <tr>\n",
       "      <th>3751</th>\n",
       "      <td>15.004</td>\n",
       "      <td>25.6</td>\n",
       "      <td>4456.443787</td>\n",
       "      <td>0.128</td>\n",
       "      <td>-57.524279</td>\n",
       "    </tr>\n",
       "  </tbody>\n",
       "</table>\n",
       "</div>"
      ],
      "text/plain": [
       "        time  Virtuelle Kraft  spindle_speed_actual_f3  torque_set_f11  \\\n",
       "3747  14.988            -58.6              4456.844330          -0.293   \n",
       "3748  14.992             81.4              4455.986023           0.407   \n",
       "3749  14.996            258.0              4455.356598           1.290   \n",
       "3750  15.000            -13.0              4457.187653          -0.065   \n",
       "3751  15.004             25.6              4456.443787           0.128   \n",
       "\n",
       "      spindle_power_f9  \n",
       "3747       -115.048558  \n",
       "3748        129.429627  \n",
       "3749        632.767066  \n",
       "3750         28.762139  \n",
       "3751        -57.524279  "
      ]
     },
     "execution_count": 4,
     "metadata": {},
     "output_type": "execute_result"
    }
   ],
   "source": [
    "radius = 0.005 # radius in m, for 5 mm\n",
    "\n",
    "virtual_force = df[order]['torque_set_f11'] / radius\n",
    "    \n",
    "df['Virtuelle Kraft'] = virtual_force\n",
    "focusColumns = ['time', 'Virtuelle Kraft', 'spindle_speed_actual_f3', 'torque_set_f11', 'spindle_power_f9']\n",
    "\n",
    "df[focusColumns].tail()"
   ]
  },
  {
   "cell_type": "markdown",
   "metadata": {},
   "source": [
    "#### Resampling auf 2 Millisekunden\n",
    "#### Lineare Interpolation"
   ]
  },
  {
   "cell_type": "code",
   "execution_count": 5,
   "metadata": {},
   "outputs": [],
   "source": [
    "df['time'] = pd.to_timedelta(df['time'], unit=\"s\")\n",
    "df = df.set_index('time')\n",
    "df = df.resample('2L')\n",
    "df = df.interpolate(method='linear') # spline, polynomial, -order\n",
    "df = df.reset_index()"
   ]
  }
 ],
 "metadata": {
  "kernelspec": {
   "display_name": "Python 3",
   "language": "python",
   "name": "python3"
  },
  "language_info": {
   "codemirror_mode": {
    "name": "ipython",
    "version": 3
   },
   "file_extension": ".py",
   "mimetype": "text/x-python",
   "name": "python",
   "nbconvert_exporter": "python",
   "pygments_lexer": "ipython3",
   "version": "3.7.3"
  }
 },
 "nbformat": 4,
 "nbformat_minor": 2
}
