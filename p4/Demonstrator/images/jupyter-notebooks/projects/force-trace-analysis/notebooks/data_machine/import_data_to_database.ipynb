{
 "cells": [
  {
   "cell_type": "markdown",
   "metadata": {},
   "source": [
    "#### Beschreibung:\n",
    "Importiert die projektspezifischen Rohdaten aus dem Projektordner in die MongoDB (Datenbank).\n",
    "\n",
    "#### Workflow:\n",
    "Rohdaten werden über die Projektordner data/projects/*&lt;Projektname&gt;*/machine/ ausgelesen. Zum Vergleich dieser Notebooks wird die Normalisierte Kreuzkorrelation aus data_compare/Normalized_Cross_Correlation verwendet."
   ]
  },
  {
   "cell_type": "markdown",
   "metadata": {},
   "source": [
    "# Daten in MongoDB importieren"
   ]
  },
  {
   "cell_type": "code",
   "execution_count": null,
   "metadata": {
    "scrolled": true
   },
   "outputs": [],
   "source": [
    "%run ../Setup.ipynb\n",
    "\n",
    "from isac.conversion import xml_to_json as converter\n",
    "from isac.database.connection import database_connector as connector\n",
    "from isac.database.structure import column_meta_helper as structureMeta\n",
    "from isac import configuration\n",
    "import pandas as pd\n",
    "\n",
    "if __name__ == \"__main__\":\n",
    "    print(\"Please start import by running notebook notebooks/import_projects/Import_All_Projects\")\n",
    "else:\n",
    "    importFile = configuration.machine_importFile\n",
    "    connection = connector.DatabaseConnector(name = \"ISAC_\" + configuration.project_name).connect()"
   ]
  },
  {
   "cell_type": "markdown",
   "metadata": {},
   "source": [
    "## Daten konvertieren / normieren"
   ]
  },
  {
   "cell_type": "markdown",
   "metadata": {},
   "source": [
    "#### Einträge einlesen"
   ]
  },
  {
   "cell_type": "code",
   "execution_count": null,
   "metadata": {},
   "outputs": [],
   "source": [
    "order = configuration.order\n",
    "\n",
    "records = pd.read_csv(importFile, encoding='latin1', header=None, names = order)\n",
    "print(\"Anzahl der gefundenen Einträge: \" + str(len(records)))"
   ]
  },
  {
   "cell_type": "markdown",
   "metadata": {},
   "source": [
    "## Cleaning\n",
    "#### Die einzelnen Dokumente werden bereinigt importiert"
   ]
  },
  {
   "cell_type": "code",
   "execution_count": null,
   "metadata": {},
   "outputs": [],
   "source": [
    "df = pd.DataFrame(records)"
   ]
  },
  {
   "cell_type": "markdown",
   "metadata": {},
   "source": [
    "#### Rename, Sort And Reorder"
   ]
  },
  {
   "cell_type": "code",
   "execution_count": null,
   "metadata": {},
   "outputs": [],
   "source": [
    "df.sort_values(by=['time'])"
   ]
  },
  {
   "cell_type": "markdown",
   "metadata": {},
   "source": [
    "#### Cleaning Data\n",
    "#### Fill NaN Values With Value Of Last Row\n",
    "Pandas supports a fillna method with diffrent options. In our case ffill, forward fill, the method pastes the last occuring correct value in the next row."
   ]
  },
  {
   "cell_type": "code",
   "execution_count": null,
   "metadata": {},
   "outputs": [],
   "source": [
    "df = df.fillna(method='ffill')"
   ]
  },
  {
   "cell_type": "markdown",
   "metadata": {},
   "source": [
    "#### Clean From Errors\n",
    "As far as we examined the data and what the experts concluded there aren't any errors or outliers"
   ]
  },
  {
   "cell_type": "markdown",
   "metadata": {},
   "source": [
    "#### Clean Duplicates\n",
    "Also no duplicate data was founnd. Therefore the dataset stays the same atfer droping the duplicates by having any. "
   ]
  },
  {
   "cell_type": "code",
   "execution_count": null,
   "metadata": {},
   "outputs": [],
   "source": [
    "df = df.drop_duplicates()"
   ]
  },
  {
   "cell_type": "code",
   "execution_count": null,
   "metadata": {},
   "outputs": [],
   "source": [
    "records = df[order].to_dict('records')"
   ]
  },
  {
   "cell_type": "markdown",
   "metadata": {},
   "source": [
    "## In Mongo speichern"
   ]
  },
  {
   "cell_type": "code",
   "execution_count": null,
   "metadata": {},
   "outputs": [],
   "source": [
    "# Alte Collection löschen\n",
    "collection = connection.getCollection(configuration.collections.cleaned)\n",
    "collection.drop()\n",
    "\n",
    "# Neue Dokumente einfügen\n",
    "result = collection.insert_many(record for record in records)\n",
    "\n",
    "print(\"Anzahl der gespeicherten bereinigten Dokumente: \" + str(len(result.inserted_ids)))"
   ]
  }
 ],
 "metadata": {
  "kernelspec": {
   "display_name": "Python 3",
   "language": "python",
   "name": "python3"
  },
  "language_info": {
   "codemirror_mode": {
    "name": "ipython",
    "version": 3
   },
   "file_extension": ".py",
   "mimetype": "text/x-python",
   "name": "python",
   "nbconvert_exporter": "python",
   "pygments_lexer": "ipython3",
   "version": "3.7.3"
  }
 },
 "nbformat": 4,
 "nbformat_minor": 2
}
