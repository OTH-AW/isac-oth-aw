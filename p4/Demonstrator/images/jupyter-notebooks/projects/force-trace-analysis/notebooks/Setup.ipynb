{
 "cells": [
  {
   "cell_type": "code",
   "execution_count": 1,
   "metadata": {},
   "outputs": [],
   "source": [
    "import os\n",
    "from os.path import dirname\n",
    "import sys"
   ]
  },
  {
   "cell_type": "markdown",
   "metadata": {},
   "source": [
    "## Root-Verzeichnis finden"
   ]
  },
  {
   "cell_type": "code",
   "execution_count": 2,
   "metadata": {},
   "outputs": [],
   "source": [
    "root_path = %pwd\n",
    "\n",
    "# Wenn diese Bedingungen erfüllt sind, ist es das gültige\n",
    "# Root-Projektverzeichnis\n",
    "def is_root_path(path):\n",
    "    subfolders = [f.name for f in os.scandir(path) if f.is_dir()]\n",
    "    if \"data\" in subfolders and \"notebooks\" in subfolders and \"src\" in subfolders:\n",
    "        return True\n",
    "    else:\n",
    "        return False\n",
    "    \n",
    "def try_find_root_path(path):\n",
    "    if is_root_path(path):\n",
    "        return path\n",
    "    else:\n",
    "        # Versuche Parent-Verzeichnis\n",
    "        parentdir = dirname(path)\n",
    "        if parentdir == path:\n",
    "            # Top-Level erreicht, Root-Path nicht gefunden\n",
    "            return None\n",
    "        else:\n",
    "            return try_find_root_path(parentdir)\n",
    "        \n",
    "root_path = try_find_root_path(root_path)"
   ]
  },
  {
   "cell_type": "markdown",
   "metadata": {},
   "source": [
    "## Zusätzliche Pfade einbinden"
   ]
  },
  {
   "cell_type": "code",
   "execution_count": 3,
   "metadata": {
    "scrolled": true
   },
   "outputs": [],
   "source": [
    "module_path = os.path.join(root_path, 'notebooks')\n",
    "sys.path.append(module_path)\n",
    "\n",
    "module_path = os.path.join(root_path, 'src')\n",
    "sys.path.append(module_path)"
   ]
  },
  {
   "cell_type": "markdown",
   "metadata": {},
   "source": [
    "## Notebook Loader registrieren"
   ]
  },
  {
   "cell_type": "code",
   "execution_count": 4,
   "metadata": {},
   "outputs": [],
   "source": [
    "## Initialize Notebook Loader\n",
    "from isac.loader import notebook_loader as loader\n",
    "loader.register()"
   ]
  }
 ],
 "metadata": {
  "kernelspec": {
   "display_name": "Python 3",
   "language": "python",
   "name": "python3"
  },
  "language_info": {
   "codemirror_mode": {
    "name": "ipython",
    "version": 3
   },
   "file_extension": ".py",
   "mimetype": "text/x-python",
   "name": "python",
   "nbconvert_exporter": "python",
   "pygments_lexer": "ipython3",
   "version": "3.6.4"
  }
 },
 "nbformat": 4,
 "nbformat_minor": 2
}
