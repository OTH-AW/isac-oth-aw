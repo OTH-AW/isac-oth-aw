{
 "cells": [
  {
   "cell_type": "markdown",
   "metadata": {},
   "source": [
    "#### Beschreibung:\n",
    "Aufbereitung der Daten.\n",
    "\n",
    "#### Workflow:\n",
    "Echtdaten des Projektes, das zurzeit in der Konfiguration gesetzt ist, werden aus der MongoDB (Datenbank) ausgelesen. Anschließend werden sie in diesem Notebook für die weitere Verwendung aufbereitet."
   ]
  },
  {
   "cell_type": "markdown",
   "metadata": {},
   "source": [
    "# Daten bereinigen"
   ]
  },
  {
   "cell_type": "code",
   "execution_count": 1,
   "metadata": {},
   "outputs": [],
   "source": [
    "%run ../Setup.ipynb\n",
    "\n",
    "import pandas as pd\n",
    "from isac.database.connection import database_connector as connector\n",
    "from isac import configuration\n",
    "import numpy as np"
   ]
  },
  {
   "cell_type": "markdown",
   "metadata": {},
   "source": [
    "### Extraktion"
   ]
  },
  {
   "cell_type": "markdown",
   "metadata": {},
   "source": [
    "#### Dokumente einlesen"
   ]
  },
  {
   "cell_type": "code",
   "execution_count": 2,
   "metadata": {},
   "outputs": [],
   "source": [
    "connection = connector.DatabaseConnector(name = configuration.project_database).connect()\n",
    "collection = connection.getCollection(configuration.collections.force_import)\n",
    "\n",
    "existingColumns = ['time', 'fx', 'fy', 'fz'];\n",
    "\n",
    "df = pd.DataFrame(list(collection.find()))\n",
    "df = df.sort_values(by=['time'])\n",
    "df = df.reset_index(drop=True)\n",
    "order = list(existingColumns)\n",
    "# df[order].head()"
   ]
  },
  {
   "cell_type": "markdown",
   "metadata": {},
   "source": [
    "### Cleaning"
   ]
  },
  {
   "cell_type": "markdown",
   "metadata": {},
   "source": [
    "#### ? Summe der Kräfte berechnen\n",
    "\n",
    "fz hat keine relevanten Auswirkungen auf die Kräfte, führt sogar eher zu Störeffekten, deshalb\n",
    "wird sie gar nicht in die Berechnung miteinbezogen"
   ]
  },
  {
   "cell_type": "code",
   "execution_count": 3,
   "metadata": {},
   "outputs": [
    {
     "data": {
      "text/html": [
       "<div>\n",
       "<style scoped>\n",
       "    .dataframe tbody tr th:only-of-type {\n",
       "        vertical-align: middle;\n",
       "    }\n",
       "\n",
       "    .dataframe tbody tr th {\n",
       "        vertical-align: top;\n",
       "    }\n",
       "\n",
       "    .dataframe thead th {\n",
       "        text-align: right;\n",
       "    }\n",
       "</style>\n",
       "<table border=\"1\" class=\"dataframe\">\n",
       "  <thead>\n",
       "    <tr style=\"text-align: right;\">\n",
       "      <th></th>\n",
       "      <th>time</th>\n",
       "      <th>fx</th>\n",
       "      <th>fy</th>\n",
       "      <th>fz</th>\n",
       "      <th>fsum</th>\n",
       "    </tr>\n",
       "  </thead>\n",
       "  <tbody>\n",
       "    <tr>\n",
       "      <th>0</th>\n",
       "      <td>0.000</td>\n",
       "      <td>-1.37329</td>\n",
       "      <td>-78.5522</td>\n",
       "      <td>46.5088</td>\n",
       "      <td>78.564203</td>\n",
       "    </tr>\n",
       "    <tr>\n",
       "      <th>1</th>\n",
       "      <td>0.002</td>\n",
       "      <td>-1.37329</td>\n",
       "      <td>-78.5522</td>\n",
       "      <td>46.6309</td>\n",
       "      <td>78.564203</td>\n",
       "    </tr>\n",
       "    <tr>\n",
       "      <th>2</th>\n",
       "      <td>0.004</td>\n",
       "      <td>-1.73950</td>\n",
       "      <td>-79.2847</td>\n",
       "      <td>46.1426</td>\n",
       "      <td>79.303780</td>\n",
       "    </tr>\n",
       "    <tr>\n",
       "      <th>3</th>\n",
       "      <td>0.006</td>\n",
       "      <td>-1.92261</td>\n",
       "      <td>-79.5593</td>\n",
       "      <td>46.3257</td>\n",
       "      <td>79.582527</td>\n",
       "    </tr>\n",
       "    <tr>\n",
       "      <th>4</th>\n",
       "      <td>0.008</td>\n",
       "      <td>-2.28882</td>\n",
       "      <td>-78.5522</td>\n",
       "      <td>46.2036</td>\n",
       "      <td>78.585538</td>\n",
       "    </tr>\n",
       "  </tbody>\n",
       "</table>\n",
       "</div>"
      ],
      "text/plain": [
       "    time       fx       fy       fz       fsum\n",
       "0  0.000 -1.37329 -78.5522  46.5088  78.564203\n",
       "1  0.002 -1.37329 -78.5522  46.6309  78.564203\n",
       "2  0.004 -1.73950 -79.2847  46.1426  79.303780\n",
       "3  0.006 -1.92261 -79.5593  46.3257  79.582527\n",
       "4  0.008 -2.28882 -78.5522  46.2036  78.585538"
      ]
     },
     "execution_count": 3,
     "metadata": {},
     "output_type": "execute_result"
    }
   ],
   "source": [
    "df['fsum'] = np.sqrt(pow(df[order]['fx'], 2) + pow(df[order]['fy'], 2))\n",
    "\n",
    "# Ausgabe\n",
    "focusColumns = ['time', 'fx', 'fy', 'fz', 'fsum'];\n",
    "order = list(focusColumns)\n",
    "df[order].head()"
   ]
  },
  {
   "cell_type": "markdown",
   "metadata": {},
   "source": [
    "#### Resampling auf 2 Millisekunden\n",
    "#### Lineare Interpolation"
   ]
  },
  {
   "cell_type": "code",
   "execution_count": 4,
   "metadata": {},
   "outputs": [],
   "source": [
    "df['time'] = pd.to_timedelta(df['time'], unit=\"s\")\n",
    "df = df.set_index('time')\n",
    "df = df.resample('2L')\n",
    "df = df.interpolate(method='linear') # spline, polynomial, -order\n",
    "df = df.reset_index()"
   ]
  }
 ],
 "metadata": {
  "kernelspec": {
   "display_name": "Python 3",
   "language": "python",
   "name": "python3"
  },
  "language_info": {
   "codemirror_mode": {
    "name": "ipython",
    "version": 3
   },
   "file_extension": ".py",
   "mimetype": "text/x-python",
   "name": "python",
   "nbconvert_exporter": "python",
   "pygments_lexer": "ipython3",
   "version": "3.7.3"
  }
 },
 "nbformat": 4,
 "nbformat_minor": 2
}
