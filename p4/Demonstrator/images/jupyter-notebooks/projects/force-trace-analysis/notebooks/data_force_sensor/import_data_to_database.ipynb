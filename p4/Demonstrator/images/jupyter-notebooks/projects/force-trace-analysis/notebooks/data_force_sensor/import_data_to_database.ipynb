{
 "cells": [
  {
   "cell_type": "markdown",
   "metadata": {},
   "source": [
    "#### Beschreibung:\n",
    "Importiert die projektspezifischen Rohdaten aus dem Projektordner in die MongoDB (Datenbank).\n",
    "\n",
    "#### Workflow:\n",
    "Rohdaten werden über die Projektordner data/projects/*&lt;Projektname&gt;*/force_sensor/ ausgelesen. Zum Vergleich dieser Notebooks wird die Normalisierte Kreuzkorrelation aus data_compare/Normalized_Cross_Correlation verwendet."
   ]
  },
  {
   "cell_type": "markdown",
   "metadata": {},
   "source": [
    "# Daten in MongoDB importieren"
   ]
  },
  {
   "cell_type": "code",
   "execution_count": null,
   "metadata": {},
   "outputs": [],
   "source": [
    "%run ../Setup.ipynb\n",
    "\n",
    "from isac.database.connection import database_connector as connector\n",
    "from isac import configuration\n",
    "\n",
    "if __name__ == \"__main__\":\n",
    "    print(\"Please start import by running notebook notebooks/import_projects/Import_All_Projects\")\n",
    "else:\n",
    "    importFileMixedContent = configuration.force_sensor_importFileMixedContent\n",
    "    importFile = configuration.force_sensor_importFile\n",
    "    connection = connector.DatabaseConnector(name = \"ISAC_\" + configuration.project_name).connect()"
   ]
  },
  {
   "cell_type": "markdown",
   "metadata": {},
   "source": [
    "### Daten konvertieren / normieren"
   ]
  },
  {
   "cell_type": "markdown",
   "metadata": {},
   "source": [
    "#### Relevanten Inhalt auslesen"
   ]
  },
  {
   "cell_type": "code",
   "execution_count": null,
   "metadata": {},
   "outputs": [],
   "source": [
    "skip_lines = 20\n",
    "\n",
    "with open(importFile, 'w') as file_write:\n",
    "    with open(importFileMixedContent, 'r') as file_read:\n",
    "        for _ in range(skip_lines):\n",
    "            next(file_read)\n",
    "        for line in file_read:\n",
    "            file_write.write(line)"
   ]
  },
  {
   "cell_type": "markdown",
   "metadata": {},
   "source": [
    "### In Mongo speichern"
   ]
  },
  {
   "cell_type": "code",
   "execution_count": null,
   "metadata": {
    "scrolled": true
   },
   "outputs": [],
   "source": [
    "exitcodeMassImport = connection.massImport(configuration.collections.force_import,\n",
    "                                 importFile,\n",
    "                                 'csv',\n",
    "                                 True,\n",
    "                                 '--fields',\n",
    "                                 'time,fz,fy,fx')\n",
    "\n",
    "print(\"Exitcode Mass Import: \" + str(exitcodeMassImport))"
   ]
  }
 ],
 "metadata": {
  "kernelspec": {
   "display_name": "Python 3",
   "language": "python",
   "name": "python3"
  },
  "language_info": {
   "codemirror_mode": {
    "name": "ipython",
    "version": 3
   },
   "file_extension": ".py",
   "mimetype": "text/x-python",
   "name": "python",
   "nbconvert_exporter": "python",
   "pygments_lexer": "ipython3",
   "version": "3.7.3"
  }
 },
 "nbformat": 4,
 "nbformat_minor": 2
}
